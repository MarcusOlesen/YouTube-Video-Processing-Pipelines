{
 "cells": [
  {
   "cell_type": "code",
   "execution_count": 1,
   "id": "0358165a-2b9e-4067-ac40-ab904e7f1c17",
   "metadata": {},
   "outputs": [],
   "source": [
    "audio = \"Audio/audio_features.csv\" # video id\n",
    "text = \"Linguistic/processed_text_features.csv\" # video_id\n",
    "meta = \"Metadata/video_metadata.csv\" # video_id\n",
    "visual = \"Visual/combined_visual_features.csv\" # video_id\n",
    "motion = \"Motion/motion_data.csv\" # video_id"
   ]
  },
  {
   "cell_type": "code",
   "execution_count": 2,
   "id": "0ef12442-b869-451f-9288-e4750bd25ac4",
   "metadata": {},
   "outputs": [],
   "source": [
    "import pandas as pd\n",
    "import os"
   ]
  },
  {
   "cell_type": "code",
   "execution_count": 3,
   "id": "5ebe91ce-e3b3-44ac-87ba-c51b6106960f",
   "metadata": {},
   "outputs": [],
   "source": [
    "audio_df = pd.read_csv(audio); audio_df.rename(columns={\"video id\": \"video_id\"}, inplace=True) # make \"video id\" match the others\n",
    "text_df = pd.read_csv(text); text_df.rename(columns={\"language\": \"detected_language\"}, inplace=True)\n",
    "meta_df = pd.read_csv(meta); meta_df.rename(columns={\"language\": \"reported_language\"}, inplace=True)\n",
    "visual_df = pd.read_csv(visual)\n",
    "motion_df = pd.read_csv(motion); motion_df = motion_df.drop(['file_name'], axis=1) # same as video_id\n",
    "\n",
    "dataframes = [audio_df, text_df, meta_df, visual_df, motion_df]"
   ]
  },
  {
   "cell_type": "code",
   "execution_count": 4,
   "id": "87b27e30-a0ba-4461-8419-ef20e2e22b55",
   "metadata": {},
   "outputs": [
    {
     "data": {
      "text/plain": [
       "20180"
      ]
     },
     "execution_count": 4,
     "metadata": {},
     "output_type": "execute_result"
    }
   ],
   "source": [
    "video_folder = '../YouTube_Downloader/Complete_Downloads'\n",
    "\n",
    "files = os.listdir(video_folder)\n",
    "mp4_files = [file for file in files if file.endswith('.mp4')]\n",
    "video_id = [os.path.splitext(filename)[0] for filename in mp4_files]\n",
    "len(video_id) # need 20180"
   ]
  },
  {
   "cell_type": "code",
   "execution_count": 5,
   "id": "539663a9-6b6e-470f-8c7b-63cb3549693f",
   "metadata": {},
   "outputs": [],
   "source": [
    "def check_ids(data):\n",
    "    ids = set(data['video_id'].unique())\n",
    "    missing = set(video_id) - ids\n",
    "    non_valid = ids - set(video_id)\n",
    "    out = {\n",
    "        \"missing\": missing,\n",
    "        \"non_valid\": non_valid,\n",
    "        \"n_miss\": len(missing),\n",
    "        \"n_bad\": len(non_valid)\n",
    "    }\n",
    "    return out"
   ]
  },
  {
   "cell_type": "code",
   "execution_count": 73,
   "id": "fa3a16ee-802d-4abe-b3f0-56711cc83252",
   "metadata": {},
   "outputs": [
    {
     "name": "stdout",
     "output_type": "stream",
     "text": [
      "missing ids = 0 \t Non-valid ids = 0\n",
      "missing ids = 9224 \t Non-valid ids = 0\n",
      "missing ids = 2 \t Non-valid ids = 2\n",
      "missing ids = 0 \t Non-valid ids = 0\n",
      "missing ids = 28 \t Non-valid ids = 0\n"
     ]
    }
   ],
   "source": [
    "for data in dataframes:\n",
    "    result = check_ids(data)\n",
    "    print(f\"missing ids = {result[\"n_miss\"]} \\t Non-valid ids = {result[\"n_bad\"]}\")"
   ]
  },
  {
   "cell_type": "code",
   "execution_count": 76,
   "id": "68d8c984-691e-41a4-a580-4a6d24877eff",
   "metadata": {},
   "outputs": [
    {
     "data": {
      "text/plain": [
       "{'missing': {'TFHjveEp9qI', 'eMIXCCpDykI'},\n",
       " 'non_valid': {'iFwONUmec-o', 'qJfCi1UT4n4'},\n",
       " 'n_miss': 2,\n",
       " 'n_bad': 2}"
      ]
     },
     "execution_count": 76,
     "metadata": {},
     "output_type": "execute_result"
    }
   ],
   "source": [
    "check_ids(meta_df) # these are two movies and their trailer (from the .json file) "
   ]
  },
  {
   "cell_type": "code",
   "execution_count": 78,
   "id": "f4434148-41f2-4751-8c9d-b9e3adaf61c9",
   "metadata": {},
   "outputs": [
    {
     "data": {
      "text/plain": [
       "{'missing': set(), 'non_valid': set(), 'n_miss': 0, 'n_bad': 0}"
      ]
     },
     "execution_count": 78,
     "metadata": {},
     "output_type": "execute_result"
    }
   ],
   "source": [
    "# Mapping of old video_ids to \"correct\" ones\n",
    "video_id_map = {\n",
    "    'iFwONUmec-o': 'TFHjveEp9qI',\n",
    "    'qJfCi1UT4n4': 'eMIXCCpDykI'\n",
    "}\n",
    "\n",
    "# Update the 'video_id' column using the mapping\n",
    "meta_df['video_id'] = meta_df['video_id'].replace(video_id_map)\n",
    "check_ids(meta_df)"
   ]
  },
  {
   "cell_type": "raw",
   "id": "8491c9cd-6f26-4bf9-a324-83bd72c594eb",
   "metadata": {},
   "source": [
    "meta_df.to_csv(meta, index=False)"
   ]
  },
  {
   "cell_type": "code",
   "execution_count": 6,
   "id": "b07950e8-b70a-45d9-901b-cd1b629ab009",
   "metadata": {},
   "outputs": [
    {
     "name": "stdout",
     "output_type": "stream",
     "text": [
      "missing ids = 0 \t Non-valid ids = 0\n",
      "missing ids = 9224 \t Non-valid ids = 0\n",
      "missing ids = 0 \t Non-valid ids = 0\n",
      "missing ids = 0 \t Non-valid ids = 0\n",
      "missing ids = 0 \t Non-valid ids = 0\n"
     ]
    }
   ],
   "source": [
    "for data in dataframes:\n",
    "    result = check_ids(data)\n",
    "    print(f\"missing ids = {result[\"n_miss\"]} \\t Non-valid ids = {result[\"n_bad\"]}\")"
   ]
  },
  {
   "cell_type": "markdown",
   "id": "b13e5b30-8a35-422e-b3aa-46784ec9ded5",
   "metadata": {},
   "source": [
    "# Join dataframes"
   ]
  },
  {
   "cell_type": "code",
   "execution_count": 7,
   "id": "2d3f33c2-85e0-4e30-b840-a96d70a0bf31",
   "metadata": {},
   "outputs": [
    {
     "data": {
      "text/plain": [
       "(353, 353)"
      ]
     },
     "execution_count": 7,
     "metadata": {},
     "output_type": "execute_result"
    }
   ],
   "source": [
    "nb_columns = -4 # for the ids\n",
    "columns = set()\n",
    "for dat in dataframes:\n",
    "    nb_columns += len(dat.columns)\n",
    "    columns.update(dat.columns.to_list())\n",
    "nb_columns, len(columns)"
   ]
  },
  {
   "cell_type": "code",
   "execution_count": 8,
   "id": "d9eb8af2-d366-4093-a587-91c6f564aad5",
   "metadata": {},
   "outputs": [],
   "source": [
    "# Merge all dataframes using outer join\n",
    "df = (audio_df\n",
    "      .merge(text_df, on=\"video_id\", how=\"outer\")\n",
    "      .merge(meta_df, on=\"video_id\", how=\"outer\")\n",
    "      .merge(visual_df, on=\"video_id\", how=\"outer\")\n",
    "      .merge(motion_df, on=\"video_id\", how=\"outer\"))"
   ]
  },
  {
   "cell_type": "code",
   "execution_count": 9,
   "id": "3ab90332-0035-420e-a033-bb60ef20879c",
   "metadata": {},
   "outputs": [
    {
     "data": {
      "text/plain": [
       "20180"
      ]
     },
     "execution_count": 9,
     "metadata": {},
     "output_type": "execute_result"
    }
   ],
   "source": [
    "len(df['video_id'].unique())"
   ]
  },
  {
   "cell_type": "code",
   "execution_count": 10,
   "id": "ccabb67b-fc6a-4f1c-a378-72a31b6f94a3",
   "metadata": {},
   "outputs": [
    {
     "data": {
      "text/plain": [
       "353"
      ]
     },
     "execution_count": 10,
     "metadata": {},
     "output_type": "execute_result"
    }
   ],
   "source": [
    "len(df.columns.to_list())"
   ]
  },
  {
   "cell_type": "code",
   "execution_count": 11,
   "id": "373f8a68-ea0b-4c76-a788-bb15599e1b92",
   "metadata": {
    "scrolled": true
   },
   "outputs": [
    {
     "data": {
      "text/plain": [
       "['video_id',\n",
       " 'mean_mfccs_1',\n",
       " 'mean_mfccs_2',\n",
       " 'mean_mfccs_3',\n",
       " 'mean_mfccs_4',\n",
       " 'mean_mfccs_5',\n",
       " 'mean_mfccs_6',\n",
       " 'mean_mfccs_7',\n",
       " 'mean_mfccs_8',\n",
       " 'mean_mfccs_9',\n",
       " 'mean_mfccs_10',\n",
       " 'mean_mfccs_11',\n",
       " 'mean_mfccs_12',\n",
       " 'mean_mfccs_13',\n",
       " 'std_mfccs_1',\n",
       " 'std_mfccs_2',\n",
       " 'std_mfccs_3',\n",
       " 'std_mfccs_4',\n",
       " 'std_mfccs_5',\n",
       " 'std_mfccs_6',\n",
       " 'std_mfccs_7',\n",
       " 'std_mfccs_8',\n",
       " 'std_mfccs_9',\n",
       " 'std_mfccs_10',\n",
       " 'std_mfccs_11',\n",
       " 'std_mfccs_12',\n",
       " 'std_mfccs_13',\n",
       " 'volatility_mfccs_1',\n",
       " 'volatility_mfccs_2',\n",
       " 'volatility_mfccs_3',\n",
       " 'volatility_mfccs_4',\n",
       " 'volatility_mfccs_5',\n",
       " 'volatility_mfccs_6',\n",
       " 'volatility_mfccs_7',\n",
       " 'volatility_mfccs_8',\n",
       " 'volatility_mfccs_9',\n",
       " 'volatility_mfccs_10',\n",
       " 'volatility_mfccs_11',\n",
       " 'volatility_mfccs_12',\n",
       " 'volatility_mfccs_13',\n",
       " 'mean_vol_contour_4hz',\n",
       " 'std_vol_contour_4hz',\n",
       " 'volatility_vol_contour_4hz',\n",
       " 'mean_freq_centroid',\n",
       " 'std_freq_centroid',\n",
       " 'volatility_freq_centroid',\n",
       " 'mean_freq_bandwidth',\n",
       " 'std_freq_bandwidth',\n",
       " 'volatility_freq_bandwidth',\n",
       " 'mean_energy_ratio_0_630',\n",
       " 'std_energy_ratio_0_630',\n",
       " 'volatility_energy_ratio_0_630',\n",
       " 'mean_energy_ratio_630_1720',\n",
       " 'std_energy_ratio_630_1720',\n",
       " 'volatility_energy_ratio_630_1720',\n",
       " 'mean_energy_ratio_1720_4400',\n",
       " 'std_energy_ratio_1720_4400',\n",
       " 'volatility_energy_ratio_1720_4400',\n",
       " 'mean_non_silence_ratio',\n",
       " 'std_non_silence_ratio',\n",
       " 'volatility_non_silence_ratio',\n",
       " 'mean_volume_dynamic_range',\n",
       " 'std_volume_dynamic_range',\n",
       " 'volatility_volume_dynamic_range',\n",
       " 'mean_mean_zero_crossing_rate',\n",
       " 'std_mean_zero_crossing_rate',\n",
       " 'volatility_mean_zero_crossing_rate',\n",
       " 'mean_volume_std_dev',\n",
       " 'std_volume_std_dev',\n",
       " 'volatility_volume_std_dev',\n",
       " 'text',\n",
       " 'passed_quality_check',\n",
       " 'n_stop_words',\n",
       " 'alpha_ratio',\n",
       " 'mean_word_length',\n",
       " 'doc_length',\n",
       " 'symbol_to_word_ratio_#',\n",
       " 'proportion_ellipsis',\n",
       " 'proportion_bullet_points',\n",
       " 'contains_lorem ipsum',\n",
       " 'duplicate_line_chr_fraction',\n",
       " 'duplicate_paragraph_chr_fraction',\n",
       " 'duplicate_ngram_chr_fraction_5',\n",
       " 'duplicate_ngram_chr_fraction_6',\n",
       " 'duplicate_ngram_chr_fraction_7',\n",
       " 'duplicate_ngram_chr_fraction_8',\n",
       " 'duplicate_ngram_chr_fraction_9',\n",
       " 'duplicate_ngram_chr_fraction_10',\n",
       " 'top_ngram_chr_fraction_2',\n",
       " 'top_ngram_chr_fraction_3',\n",
       " 'top_ngram_chr_fraction_4',\n",
       " 'oov_ratio',\n",
       " 'pos_prop_ADJ',\n",
       " 'pos_prop_ADP',\n",
       " 'pos_prop_ADV',\n",
       " 'pos_prop_AUX',\n",
       " 'pos_prop_CCONJ',\n",
       " 'pos_prop_DET',\n",
       " 'pos_prop_INTJ',\n",
       " 'pos_prop_NOUN',\n",
       " 'pos_prop_NUM',\n",
       " 'pos_prop_PART',\n",
       " 'pos_prop_PRON',\n",
       " 'pos_prop_PROPN',\n",
       " 'pos_prop_PUNCT',\n",
       " 'pos_prop_SCONJ',\n",
       " 'pos_prop_SYM',\n",
       " 'pos_prop_VERB',\n",
       " 'pos_prop_X',\n",
       " 'dependency_distance_mean',\n",
       " 'dependency_distance_std',\n",
       " 'prop_adjacent_dependency_relation_mean',\n",
       " 'prop_adjacent_dependency_relation_std',\n",
       " 'entropy',\n",
       " 'perplexity',\n",
       " 'per_word_perplexity',\n",
       " 'first_order_coherence',\n",
       " 'second_order_coherence',\n",
       " 'flesch_reading_ease',\n",
       " 'flesch_kincaid_grade',\n",
       " 'smog',\n",
       " 'gunning_fog',\n",
       " 'automated_readability_index',\n",
       " 'coleman_liau_index',\n",
       " 'lix',\n",
       " 'rix',\n",
       " 'token_length_mean',\n",
       " 'token_length_median',\n",
       " 'token_length_std',\n",
       " 'sentence_length_mean',\n",
       " 'sentence_length_median',\n",
       " 'sentence_length_std',\n",
       " 'syllables_per_token_mean',\n",
       " 'syllables_per_token_median',\n",
       " 'syllables_per_token_std',\n",
       " 'n_tokens',\n",
       " 'n_unique_tokens',\n",
       " 'proportion_unique_tokens',\n",
       " 'n_characters',\n",
       " 'n_sentences',\n",
       " 'detected_language',\n",
       " 'lang_confidence',\n",
       " 'fallback_used',\n",
       " 'title',\n",
       " 'description_raw',\n",
       " 'channel_id',\n",
       " 'channel_name',\n",
       " 'channel_is_verified',\n",
       " 'duration_seconds',\n",
       " 'duration_string',\n",
       " 'view_count',\n",
       " 'comment_count',\n",
       " 'like_count',\n",
       " 'subscriber_count',\n",
       " 'categories',\n",
       " 'tags',\n",
       " 'upload_date',\n",
       " 'was_live',\n",
       " 'reported_language',\n",
       " 'vcodec',\n",
       " 'acodec',\n",
       " 'video_ext',\n",
       " 'audio_ext',\n",
       " 'format',\n",
       " 'nb_keyframes',\n",
       " 'color_warmth_mean',\n",
       " 'color_warmth_sd',\n",
       " 'color_warmth_vol',\n",
       " 'valence_mean',\n",
       " 'valence_sd',\n",
       " 'valence_vol',\n",
       " 'dominance_mean',\n",
       " 'dominance_sd',\n",
       " 'dominance_vol',\n",
       " 'arousal_mean',\n",
       " 'arousal_sd',\n",
       " 'arousal_vol',\n",
       " 'colorfulness_mean',\n",
       " 'colorfulness_sd',\n",
       " 'colorfulness_vol',\n",
       " 'clarity_mean',\n",
       " 'clarity_sd',\n",
       " 'clarity_vol',\n",
       " 'gray_distribution_entropy_mean',\n",
       " 'gray_distribution_entropy_sd',\n",
       " 'gray_distribution_entropy_vol',\n",
       " 'blurriness_mean',\n",
       " 'blurriness_median',\n",
       " 'blurriness_sd',\n",
       " 'blurriness_vol',\n",
       " 'edge_points_mean',\n",
       " 'edge_points_sd',\n",
       " 'edge_points_vol',\n",
       " 'black%_mean',\n",
       " 'black%_sd',\n",
       " 'black%_vol',\n",
       " 'gray%_mean',\n",
       " 'gray%_sd',\n",
       " 'gray%_vol',\n",
       " 'white%_mean',\n",
       " 'white%_sd',\n",
       " 'white%_vol',\n",
       " 'red%_mean',\n",
       " 'red%_sd',\n",
       " 'red%_vol',\n",
       " 'green%_mean',\n",
       " 'green%_sd',\n",
       " 'green%_vol',\n",
       " 'blue%_mean',\n",
       " 'blue%_sd',\n",
       " 'blue%_vol',\n",
       " 'yellow%_mean',\n",
       " 'yellow%_sd',\n",
       " 'yellow%_vol',\n",
       " 'orange%_mean',\n",
       " 'orange%_sd',\n",
       " 'orange%_vol',\n",
       " 'brown%_mean',\n",
       " 'brown%_sd',\n",
       " 'brown%_vol',\n",
       " 'pink%_mean',\n",
       " 'pink%_sd',\n",
       " 'pink%_vol',\n",
       " 'purple%_mean',\n",
       " 'purple%_sd',\n",
       " 'purple%_vol',\n",
       " 'mean_avg_value',\n",
       " 'mean_avg_saturation',\n",
       " 'mean_sd_value',\n",
       " 'mean_sd_saturation',\n",
       " 'sd_avg_value',\n",
       " 'sd_avg_saturation',\n",
       " 'sd_sd_value',\n",
       " 'sd_sd_saturation',\n",
       " 'vol_avg_value',\n",
       " 'vol_avg_saturation',\n",
       " 'vol_sd_value',\n",
       " 'vol_sd_saturation',\n",
       " 'mean_circular_var_hue',\n",
       " 'sd_circular_var_hue',\n",
       " 'vol_circular_var_hue',\n",
       " 'hue_avg_wavelet_mean',\n",
       " 'hue_avg_wavelet_sd',\n",
       " 'hue_avg_wavelet_vol',\n",
       " 'saturation_avg_wavelet_mean',\n",
       " 'saturation_avg_wavelet_sd',\n",
       " 'saturation_avg_wavelet_vol',\n",
       " 'value_avg_wavelet_mean',\n",
       " 'value_avg_wavelet_sd',\n",
       " 'value_avg_wavelet_vol',\n",
       " 'hue_contrast_mean',\n",
       " 'hue_correlation_mean',\n",
       " 'hue_energy_mean',\n",
       " 'hue_homogeneity_mean',\n",
       " 'hue_contrast_sd',\n",
       " 'hue_correlation_sd',\n",
       " 'hue_energy_sd',\n",
       " 'hue_homogeneity_sd',\n",
       " 'hue_contrast_vol',\n",
       " 'hue_correlation_vol',\n",
       " 'hue_energy_vol',\n",
       " 'hue_homogeneity_vol',\n",
       " 'saturation_contrast_mean',\n",
       " 'saturation_correlation_mean',\n",
       " 'saturation_energy_mean',\n",
       " 'saturation_homogeneity_mean',\n",
       " 'saturation_contrast_sd',\n",
       " 'saturation_correlation_sd',\n",
       " 'saturation_energy_sd',\n",
       " 'saturation_homogeneity_sd',\n",
       " 'saturation_contrast_vol',\n",
       " 'saturation_correlation_vol',\n",
       " 'saturation_energy_vol',\n",
       " 'saturation_homogeneity_vol',\n",
       " 'value_contrast_mean',\n",
       " 'value_correlation_mean',\n",
       " 'value_energy_mean',\n",
       " 'value_homogeneity_mean',\n",
       " 'value_contrast_sd',\n",
       " 'value_correlation_sd',\n",
       " 'value_energy_sd',\n",
       " 'value_homogeneity_sd',\n",
       " 'value_contrast_vol',\n",
       " 'value_correlation_vol',\n",
       " 'value_energy_vol',\n",
       " 'value_homogeneity_vol',\n",
       " 'hue_low_dof_mean',\n",
       " 'hue_low_dof_sd',\n",
       " 'hue_low_dof_vol',\n",
       " 'saturation_low_dof_mean',\n",
       " 'saturation_low_dof_sd',\n",
       " 'saturation_low_dof_vol',\n",
       " 'value_low_dof_mean',\n",
       " 'value_low_dof_sd',\n",
       " 'value_low_dof_vol',\n",
       " 'avg_inner_saturation_mean',\n",
       " 'avg_inner_saturation_sd',\n",
       " 'avg_inner_saturation_vol',\n",
       " 'avg_inner_value_mean',\n",
       " 'avg_inner_value_sd',\n",
       " 'avg_inner_value_vol',\n",
       " 'nb_people_mean',\n",
       " 'nb_people_sd',\n",
       " 'nb_people_vol',\n",
       " 'largest_confidence_people_mean',\n",
       " 'largest_confidence_people_sd',\n",
       " 'largest_confidence_people_vol',\n",
       " 'avg_confidence_people_mean',\n",
       " 'avg_confidence_people_sd',\n",
       " 'avg_confidence_people_vol',\n",
       " 'largest_bb_people_mean',\n",
       " 'largest_bb_people_sd',\n",
       " 'largest_bb_people_vol',\n",
       " 'sum_of_bb_people_mean',\n",
       " 'sum_of_bb_people_sd',\n",
       " 'sum_of_bb_people_vol',\n",
       " 'nb_faces_mean',\n",
       " 'nb_faces_sd',\n",
       " 'nb_faces_vol',\n",
       " 'largest_confidence_faces_mean',\n",
       " 'largest_confidence_faces_sd',\n",
       " 'largest_confidence_faces_vol',\n",
       " 'avg_confidence_faces_mean',\n",
       " 'avg_confidence_faces_sd',\n",
       " 'avg_confidence_faces_vol',\n",
       " 'largest_bb_faces_mean',\n",
       " 'largest_bb_faces_sd',\n",
       " 'largest_bb_faces_vol',\n",
       " 'sum_of_bb_faces_mean',\n",
       " 'sum_of_bb_faces_sd',\n",
       " 'sum_of_bb_faces_vol',\n",
       " 'nb_hands_mean',\n",
       " 'nb_hands_sd',\n",
       " 'nb_hands_vol',\n",
       " 'largest_bb_hands_mean',\n",
       " 'largest_bb_hands_sd',\n",
       " 'largest_bb_hands_vol',\n",
       " 'sum_of_bb_hands_mean',\n",
       " 'sum_of_bb_hands_sd',\n",
       " 'sum_of_bb_hands_vol',\n",
       " 'motion_magnitude_mean',\n",
       " 'motion_magnitude_std',\n",
       " 'motion_magnitude_volatility',\n",
       " 'motion_direction_mean',\n",
       " 'motion_direction_std',\n",
       " 'motion_direction_volatility',\n",
       " 'spatial_entropy_mean',\n",
       " 'spatial_entropy_std',\n",
       " 'spatial_entropy_volatility',\n",
       " 'info_entropy_mean',\n",
       " 'info_entropy_std',\n",
       " 'info_entropy_volatility',\n",
       " 'avg_shots_per_min']"
      ]
     },
     "execution_count": 11,
     "metadata": {},
     "output_type": "execute_result"
    }
   ],
   "source": [
    "df.columns.to_list()"
   ]
  },
  {
   "cell_type": "code",
   "execution_count": 76,
   "id": "4c7776f8-8591-42b5-b863-b83355bbb242",
   "metadata": {},
   "outputs": [],
   "source": [
    "df.to_csv(\"all_features.csv\", index=False)"
   ]
  },
  {
   "cell_type": "markdown",
   "id": "97752413-34a1-427c-bc7c-a9cfa6aa2b4c",
   "metadata": {},
   "source": [
    "# Exploration before clustering"
   ]
  },
  {
   "cell_type": "code",
   "execution_count": 61,
   "id": "0b400155-15f6-4982-9492-3c6d96443b7a",
   "metadata": {},
   "outputs": [],
   "source": [
    "transcribed = (audio_df\n",
    "      .merge(meta_df, on=\"video_id\", how=\"outer\")\n",
    "      .merge(visual_df, on=\"video_id\", how=\"outer\")\n",
    "      .merge(motion_df, on=\"video_id\", how=\"outer\")\n",
    "      .merge(text_df, on=\"video_id\", how=\"inner\"))\n"
   ]
  },
  {
   "cell_type": "code",
   "execution_count": 62,
   "id": "d19e35cb-3e47-430b-a048-75b2a666f5b3",
   "metadata": {},
   "outputs": [
    {
     "data": {
      "text/plain": [
       "volatility_mfccs_1                     208\n",
       "volatility_mfccs_2                     208\n",
       "volatility_mfccs_3                     208\n",
       "volatility_mfccs_4                     208\n",
       "volatility_mfccs_5                     208\n",
       "volatility_mfccs_6                     208\n",
       "volatility_mfccs_7                     208\n",
       "volatility_mfccs_8                     208\n",
       "volatility_mfccs_9                     208\n",
       "volatility_mfccs_10                    208\n",
       "volatility_mfccs_11                    208\n",
       "volatility_mfccs_12                    208\n",
       "volatility_mfccs_13                    208\n",
       "volatility_vol_contour_4hz             208\n",
       "volatility_freq_centroid               208\n",
       "volatility_freq_bandwidth              208\n",
       "volatility_energy_ratio_0_630          208\n",
       "volatility_energy_ratio_630_1720       208\n",
       "volatility_energy_ratio_1720_4400      208\n",
       "volatility_non_silence_ratio           208\n",
       "volatility_volume_dynamic_range        208\n",
       "volatility_mean_zero_crossing_rate     208\n",
       "volatility_volume_std_dev              208\n",
       "nb_faces_vol                           209\n",
       "largest_confidence_faces_vol           209\n",
       "avg_confidence_faces_vol               209\n",
       "largest_bb_faces_vol                   209\n",
       "sum_of_bb_faces_vol                    209\n",
       "motion_magnitude_volatility             96\n",
       "motion_direction_std                     1\n",
       "motion_direction_volatility             96\n",
       "spatial_entropy_volatility              96\n",
       "info_entropy_volatility                 96\n",
       "oov_ratio                              112\n",
       "entropy                               2139\n",
       "perplexity                            2139\n",
       "per_word_perplexity                   2139\n",
       "first_order_coherence                  167\n",
       "second_order_coherence                 254\n",
       "flesch_reading_ease                     70\n",
       "flesch_kincaid_grade                    70\n",
       "smog                                   228\n",
       "gunning_fog                             70\n",
       "syllables_per_token_mean                70\n",
       "syllables_per_token_median              70\n",
       "syllables_per_token_std                 70\n",
       "dtype: int64"
      ]
     },
     "execution_count": 62,
     "metadata": {},
     "output_type": "execute_result"
    }
   ],
   "source": [
    "transcribed = transcribed.drop([col for col in meta_df.columns.to_list() if col not in ['video_id', 'duration_seconds']], axis=1)\n",
    "transcribed = transcribed.select_dtypes(include=[\"float64\", \"int64\"])\n",
    "missing_values = transcribed.isnull().sum()\n",
    "missing_values = missing_values[missing_values > 0]\n",
    "missing_values"
   ]
  },
  {
   "cell_type": "code",
   "execution_count": 51,
   "id": "4c56cb63-b803-4686-9778-a36fc0bae71d",
   "metadata": {
    "scrolled": true
   },
   "outputs": [],
   "source": [
    "df = df.drop([col for col in meta_df.columns.to_list() if col not in ['video_id', 'duration_seconds']], axis=1) # drop metadata, keep duration and id\n"
   ]
  },
  {
   "cell_type": "code",
   "execution_count": 49,
   "id": "2ad40300-c9d5-4293-bbe8-a634b6ea0527",
   "metadata": {},
   "outputs": [
    {
     "data": {
      "image/png": "[encoded data removed]",
      "text/plain": [
       "<Figure size 640x480 with 1 Axes>"
      ]
     },
     "metadata": {},
     "output_type": "display_data"
    }
   ],
   "source": [
    "import seaborn as sns\n",
    "import matplotlib.pyplot as plt\n",
    "\n",
    "sns.heatmap(df.isna(), cmap=\"viridis\", cbar=False)\n",
    "plt.show()"
   ]
  },
  {
   "cell_type": "code",
   "execution_count": null,
   "id": "949eab7c-1db6-4e4b-93d1-9cbbc3185ff2",
   "metadata": {},
   "outputs": [],
   "source": []
  }
 ],
 "metadata": {
  "kernelspec": {
   "display_name": "Python 3 ",
   "language": "python",
   "name": "python3"
  },
  "language_info": {
   "codemirror_mode": {
    "name": "ipython",
    "version": 3
   },
   "file_extension": ".py",
   "mimetype": "text/x-python",
   "name": "python",
   "nbconvert_exporter": "python",
   "pygments_lexer": "ipython3",
   "version": "3.12.9"
  }
 },
 "nbformat": 4,
 "nbformat_minor": 5
}
