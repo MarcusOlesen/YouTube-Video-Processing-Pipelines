{
 "cells": [
  {
   "cell_type": "markdown",
   "id": "fa8003e7",
   "metadata": {},
   "source": [
    "# Visual Features CSV Combiner\n",
    "\n",
    "## Overview\n",
    "This Jupyter notebook combines multiple CSV files containing visual feature data from video analysis into a single consolidated dataset. It handles the merging of features extracted across multiple processing batches.\n",
    "\n",
    "### Purpose\n",
    "- Combines separate CSV files from batch video processing\n",
    "- Maintains data consistency across merges\n",
    "- Creates a unified dataset for further analysis\n",
    "- Preserves unique video identifiers\n",
    "\n",
    "### Prerequisites\n"
   ]
  },
  {
   "cell_type": "code",
   "execution_count": null,
   "id": "caf1a907",
   "metadata": {},
   "outputs": [],
   "source": [
    "import pandas as pd\n",
    "import glob"
   ]
  },
  {
   "cell_type": "markdown",
   "id": "05d6439f",
   "metadata": {},
   "source": [
    "\n",
    "\n",
    "### Process\n",
    "1. Locates all CSV files matching the pattern \"visual_features_*.csv\"\n",
    "2. Reads and concatenates files while preserving data structure\n",
    "3. Verifies unique video IDs\n",
    "4. Exports combined dataset to a single CSV file\n",
    "\n",
    "### Usage\n",
    "Run cells sequentially to:\n",
    "1. Locate and combine CSV files\n",
    "2. Verify data integrity\n",
    "3. Export consolidated dataset\n",
    "\n",
    "The final output is saved as \"combined_visual_features.csv\" in the current directory."
   ]
  },
  {
   "cell_type": "code",
   "execution_count": 2,
   "id": "e417d577-991f-438a-9c33-ed9d6c96f976",
   "metadata": {},
   "outputs": [],
   "source": [
    "\n",
    "# Get list of all CSV files matching the pattern\n",
    "csv_files = sorted(glob.glob(\"visual_features_*.csv\"))\n",
    "\n",
    "# Read and concatenate all CSV files\n",
    "df = pd.concat((pd.read_csv(file) for file in csv_files), ignore_index=True)\n"
   ]
  },
  {
   "cell_type": "code",
   "execution_count": 5,
   "id": "bdf1b6b3-a89c-46fe-bcbf-638fac121f6d",
   "metadata": {},
   "outputs": [
    {
     "data": {
      "text/plain": [
       "20180"
      ]
     },
     "execution_count": 5,
     "metadata": {},
     "output_type": "execute_result"
    }
   ],
   "source": [
    "len(df['video_id'].unique())"
   ]
  },
  {
   "cell_type": "code",
   "execution_count": 4,
   "id": "8cfe4973-dc44-4788-b2cf-726a0a511347",
   "metadata": {},
   "outputs": [],
   "source": [
    "\n",
    "# Save the combined DataFrame to a new CSV file\n",
    "df.to_csv(\"combined_visual_features.csv\", index=False)\n"
   ]
  }
 ],
 "metadata": {
  "kernelspec": {
   "display_name": "Python 3 ",
   "language": "python",
   "name": "python3"
  },
  "language_info": {
   "codemirror_mode": {
    "name": "ipython",
    "version": 3
   },
   "file_extension": ".py",
   "mimetype": "text/x-python",
   "name": "python",
   "nbconvert_exporter": "python",
   "pygments_lexer": "ipython3",
   "version": "3.12.10"
  }
 },
 "nbformat": 4,
 "nbformat_minor": 5
}
