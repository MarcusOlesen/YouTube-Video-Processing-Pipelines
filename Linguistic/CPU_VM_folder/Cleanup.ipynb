{
 "cells": [
  {
   "cell_type": "markdown",
   "id": "36cf43dd",
   "metadata": {},
   "source": [
    "# Cleanup Pipeline\n",
    "\n",
    "## Overview\n",
    "This Jupyter notebook implements a cleanup utility for managing video files in the transcription pipeline. It removes videos that have already been transcribed, ensuring efficient storage usage and preventing duplicate processing.\n",
    "\n",
    "### Key Features\n",
    "- Checks for already transcribed videos\n",
    "- Removes redundant video files\n",
    "- Optional verbose output\n",
    "- Safe deletion with existence checks\n",
    "- CSV-based transcription verification\n",
    "\n",
    "### Prerequisites\n"
   ]
  },
  {
   "cell_type": "code",
   "execution_count": null,
   "id": "a8e73cfc",
   "metadata": {},
   "outputs": [],
   "source": [
    "import os\n",
    "import pandas as pd"
   ]
  },
  {
   "cell_type": "markdown",
   "id": "1991aaec",
   "metadata": {},
   "source": [
    "\n",
    "\n",
    "### Process Flow\n",
    "1. Load transcription records from CSV\n",
    "2. Compare existing video files against transcription records\n",
    "3. Remove videos that have already been transcribed\n",
    "4. Optional logging of deleted files\n",
    "\n",
    "### Usage\n",
    "Run this notebook before transferring the `Non_Transcribed_Videos` folder to a VM or other processing environment. Set `tee=True` in `clean_folder()` call to see which files are being deleted.\n",
    "\n",
    "### Configuration\n",
    "- Input: MP4 video files in `Non_Transcribed_Videos` folder\n",
    "- Reference: `Transcription.csv` containing completed transcriptions\n",
    "- Output: Cleaned directory with only untranscribed videos\n",
    "\n",
    "### Note\n",
    "Important to run this before moving folders to VM to optimize storage usage and processing time."
   ]
  },
  {
   "cell_type": "code",
   "execution_count": null,
   "id": "9e380636-b82a-4d54-b4a3-2388c16a6d45",
   "metadata": {},
   "outputs": [],
   "source": [
    "input_folder = 'Non_Transcribed_Videos'\n",
    "output_folder = 'Transcription.csv'\n",
    "\n",
    "mp4_files = os.listdir(input_folder)\n",
    "\n",
    "# delete transcribed videos\n",
    "if os.path.exists(output_folder):\n",
    "        df = pd.read_csv(output_folder)\n",
    "    \n",
    "def clean_folder(tee=False):\n",
    "    transcribed_ids = set(df[\"Video ID\"].astype(str))\n",
    "    for filename in mp4_files:\n",
    "        video_id = os.path.splitext(filename)[0]\n",
    "        \n",
    "        if video_id in transcribed_ids:\n",
    "            video_path = os.path.join(input_folder, filename)\n",
    "            os.remove(video_path)\n",
    "            if tee:\n",
    "                print(f\"Deleted already transcribed video: {filename}\")\n",
    "\n",
    "clean_folder(True) # delete true to remove prints"
   ]
  }
 ],
 "metadata": {
  "kernelspec": {
   "display_name": "Python 3 ",
   "language": "python",
   "name": "python3"
  },
  "language_info": {
   "codemirror_mode": {
    "name": "ipython",
    "version": 3
   },
   "file_extension": ".py",
   "mimetype": "text/x-python",
   "name": "python",
   "nbconvert_exporter": "python",
   "pygments_lexer": "ipython3",
   "version": "3.12.8"
  }
 },
 "nbformat": 4,
 "nbformat_minor": 5
}
