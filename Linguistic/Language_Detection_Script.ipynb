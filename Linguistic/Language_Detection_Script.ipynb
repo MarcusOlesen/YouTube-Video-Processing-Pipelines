{
 "cells": [
  {
   "cell_type": "code",
   "execution_count": null,
   "id": "63ded34c-7c89-477c-8fb3-ea416465fb2e",
   "metadata": {
    "scrolled": true
   },
   "outputs": [],
   "source": [
    "#!pip install openai-whisper pandas tqdm\n",
    "#!pip install ffmpeg-python"
   ]
  },
  {
   "cell_type": "markdown",
   "id": "6c435ceb",
   "metadata": {},
   "source": [
    "# Language Detection Pipeline\n",
    "\n",
    "## Overview\n",
    "This Jupyter notebook implements a language detection pipeline for YouTube videos using OpenAI's Whisper model. It processes video files to detect their primary spoken language and confidence scores, with SQLite-based progress tracking.\n",
    "\n",
    "### Key Features\n",
    "- Language detection using Whisper-large model\n",
    "- Progress tracking with SQLite database\n",
    "- Fault-tolerant processing with timeouts\n",
    "- Batch processing capabilities\n",
    "- Confidence score filtering\n",
    "\n",
    "### Prerequisites\n"
   ]
  },
  {
   "cell_type": "code",
   "execution_count": null,
   "id": "a0958ba6",
   "metadata": {},
   "outputs": [],
   "source": [
    "import os\n",
    "import random\n",
    "import subprocess\n",
    "import whisper\n",
    "import pandas as pd\n",
    "import sqlite3\n",
    "from IPython.display import clear_output"
   ]
  },
  {
   "cell_type": "markdown",
   "id": "ac1af930",
   "metadata": {},
   "source": [
    "\n",
    "\n",
    "### Process Flow\n",
    "1. Initialize SQLite database for tracking\n",
    "2. Process videos in batches:\n",
    "   - Extract first 30 seconds of audio\n",
    "   - Detect language using Whisper\n",
    "   - Store results with confidence scores\n",
    "3. Filter results for high-confidence detections (≥0.98)\n",
    "4. Export results to CSV files:\n",
    "   - `Detected_Language.csv`: All detections\n",
    "   - `Detected_Language_Confident.csv`: High-confidence only\n",
    "\n",
    "### Configuration\n",
    "- Input: MP4 video files\n",
    "- Output: CSV with video IDs, detected languages, and confidence scores\n",
    "- Database: SQLite for process tracking\n",
    "- Model: Whisper-large for accurate language detection\n",
    "\n",
    "### Usage\n",
    "The pipeline processes videos from a specified input folder and maintains processing state, allowing for interrupted runs to be resumed."
   ]
  },
  {
   "cell_type": "code",
   "execution_count": null,
   "id": "562a3f9c-a91c-4f55-8f02-e03bac0237bf",
   "metadata": {},
   "outputs": [],
   "source": [
    "DB_PATH = \"video_log.db\"\n",
    "\n",
    "# Ensure the database and table exist\n",
    "def initialize_db():\n",
    "    conn = sqlite3.connect(DB_PATH)\n",
    "    c = conn.cursor()\n",
    "    c.execute('''CREATE TABLE IF NOT EXISTS videos (\n",
    "                    video_id TEXT PRIMARY KEY,\n",
    "                    status INTEGER DEFAULT 0,\n",
    "                    timestamp REAL\n",
    "                )''')\n",
    "    conn.commit()\n",
    "    conn.close()\n",
    "\n",
    "def add_videos_to_db(input_folder):\n",
    "    conn = sqlite3.connect(DB_PATH)\n",
    "    c = conn.cursor()\n",
    "    \n",
    "    mp4_files = [f for f in os.listdir(input_folder) if f.endswith(\".mp4\")]\n",
    "    \n",
    "    for filename in mp4_files:\n",
    "        video_id = os.path.splitext(filename)[0]\n",
    "        \n",
    "        # Try inserting, ignore if video already exists\n",
    "        c.execute(\"INSERT OR IGNORE INTO videos (video_id, status, timestamp) VALUES (?, 0, NULL)\", (video_id,))\n",
    "    \n",
    "    conn.commit()\n",
    "    conn.close()"
   ]
  },
  {
   "cell_type": "code",
   "execution_count": null,
   "id": "eb228bf8-c8ed-455b-81a8-139561296b77",
   "metadata": {},
   "outputs": [],
   "source": [
    "def get_next_video():\n",
    "    conn = sqlite3.connect(DB_PATH)\n",
    "    c = conn.cursor()\n",
    "    \n",
    "    # Get an unprocessed video (`status=0`) OR a stale `status=1` (older than 10 minutes)\n",
    "    c.execute(\"\"\"\n",
    "        SELECT video_id FROM videos \n",
    "        WHERE status = 0 \n",
    "        OR (status = 1 AND timestamp < ?) \n",
    "        ORDER BY status ASC, timestamp ASC \n",
    "        LIMIT 1\n",
    "    \"\"\", (time.time() - 600,))  # 10 minutes timeout\n",
    "    \n",
    "    row = c.fetchone()\n",
    "    if row:\n",
    "        video_id = row[0]\n",
    "        c.execute(\"UPDATE videos SET status = 1, timestamp = ? WHERE video_id = ?\", (time.time(), video_id))\n",
    "        conn.commit()\n",
    "        conn.close()\n",
    "        return video_id\n",
    "    conn.close()\n",
    "    return None"
   ]
  },
  {
   "cell_type": "code",
   "execution_count": null,
   "id": "49b0b08a-a76b-4fb7-bb32-73f2335e0762",
   "metadata": {},
   "outputs": [],
   "source": [
    "def process_video(video_id, input_folder, output_path, model, s):\n",
    "    video_path = os.path.join(input_folder, f\"{video_id}.mp4\")\n",
    "    trimmed_audio_path = os.path.join(input_folder, f\"trimmed_{video_id}.wav\")\n",
    "\n",
    "    # Trim first 30 seconds using ffmpeg\n",
    "    subprocess.run([\n",
    "        \"ffmpeg\", \"-i\", video_path, \"-t\", s, \"-q:a\", \"0\", \"-map\", \"a\", trimmed_audio_path, \"-y\"\n",
    "    ], stdout=subprocess.DEVNULL, stderr=subprocess.DEVNULL)\n",
    "\n",
    "    # Load and process the audio\n",
    "    audio = whisper.load_audio(trimmed_audio_path)\n",
    "    audio = whisper.pad_or_trim(audio)\n",
    "    mel = whisper.log_mel_spectrogram(audio=audio, n_mels=128).to(model.device)\n",
    "\n",
    "    # Detect language\n",
    "    _, probs = model.detect_language(mel) \n",
    "    detected_language = max(probs, key=probs.get)\n",
    "    confidence = probs[detected_language]\n",
    "\n",
    "    # Remove temp file\n",
    "    os.remove(trimmed_audio_path)\n",
    "\n",
    "    # Save result to a CSV file (append mode)\n",
    "    df = pd.DataFrame([{\"Video ID\": video_id, \"language\": detected_language, \"confidence\": confidence}])\n",
    "    df.to_csv(output_path, mode='a', header=not os.path.exists(output_path), index=False)\n",
    "\n",
    "    # Mark video as completed\n",
    "    conn = sqlite3.connect(DB_PATH)\n",
    "    c = conn.cursor()\n",
    "    c.execute(\"UPDATE videos SET status = 2 WHERE video_id = ?\", (video_id,))\n",
    "    conn.commit()\n",
    "    conn.close()\n",
    "\n",
    "    print(f\"Processed {video_id}: {detected_language} ({confidence:.3f})\")\n"
   ]
  },
  {
   "cell_type": "code",
   "execution_count": null,
   "id": "12b81e8c-e115-4b9e-9cbb-84cf1db86219",
   "metadata": {},
   "outputs": [],
   "source": [
    "def update_print(progress): \n",
    "    \"\"\"Clears Jupyter output and prints the updated status of videos.\"\"\"\n",
    "    clear_output(wait=True)  # This will clear only the last output instead of flashing\n",
    "\n",
    "    conn = sqlite3.connect(DB_PATH)\n",
    "    c = conn.cursor()\n",
    "    \n",
    "    c.execute(\"SELECT COUNT(*) FROM videos\")\n",
    "    total_videos = c.fetchone()[0]\n",
    "    \n",
    "    c.execute(\"SELECT COUNT(*) FROM videos WHERE status = 2\")\n",
    "    completed_videos = c.fetchone()[0]\n",
    "    \n",
    "    c.execute(\"SELECT COUNT(*) FROM videos WHERE status = 0\")\n",
    "    unprocessed_videos = c.fetchone()[0]\n",
    "    \n",
    "    c.execute(\"SELECT COUNT(*) FROM videos WHERE status = 1\")\n",
    "    in_progress_videos = c.fetchone()[0]\n",
    "    \n",
    "    conn.close()\n",
    "\n",
    "    print(f\"📌 Total videos in database:    {total_videos}\")\n",
    "    print(f\"✅ Completed videos:            {completed_videos} [+{progress}] ({completed_videos/total_videos * 100:.1f}%)\")\n",
    "    print(f\"⏳ Still unprocessed:           {unprocessed_videos} ({unprocessed_videos/total_videos * 100:.1f}%)\")\n",
    "    print(f\"⚠️  In progress (interrupted):  {in_progress_videos} ({in_progress_videos/total_videos * 100:.1f}%)\")\n",
    "\n",
    "    return total_videos, completed_videos"
   ]
  },
  {
   "cell_type": "code",
   "execution_count": null,
   "id": "1dffbb2c-96aa-4419-b677-3fcd96fccf93",
   "metadata": {},
   "outputs": [],
   "source": [
    "def process_all_videos(input_folder, output_path, model, seconds=\"30\"):\n",
    "    initialize_db()\n",
    "    add_videos_to_db(input_folder)\n",
    "\n",
    "    progress = 0\n",
    "    while True:\n",
    "        video_id = get_next_video()\n",
    "        if not video_id:\n",
    "            print(\"\\n✅ No videos left to process. Exiting...\\n\")\n",
    "            break\n",
    "            \n",
    "        total_videos, completed_videos = update_print(progress)  # Clears screen & updates progress\n",
    "        \n",
    "        print(f\"\\n🚀 Processing video: {video_id} ...\")\n",
    "        process_video(video_id, input_folder, output_path, model=model, s=seconds)\n",
    "        progress += 1\n"
   ]
  },
  {
   "cell_type": "code",
   "execution_count": null,
   "id": "b13579ce-ac93-47ea-9ac2-60b3ea11dba4",
   "metadata": {},
   "outputs": [],
   "source": [
    "# setup\n",
    "input_folder = \"../../../SDU_data/YouTube_Downloader/Downloads\"\n",
    "output_path = \"Detected_Language.csv\"\n",
    "print(\"Loading Whisper-Large...\")\n",
    "model = whisper.load_model(\"large\")"
   ]
  },
  {
   "cell_type": "code",
   "execution_count": null,
   "id": "b4385ded-0d1f-468b-9486-6a99de30cf0c",
   "metadata": {},
   "outputs": [],
   "source": [
    "input_folder = \"../../../SDU_data/YouTube_Downloader/Downloads\""
   ]
  },
  {
   "cell_type": "code",
   "execution_count": null,
   "id": "04dfec20-7179-4325-8724-97aa2df0adea",
   "metadata": {},
   "outputs": [],
   "source": [
    "# run master program:\n",
    "process_all_videos(input_folder, output_path, model=model)"
   ]
  },
  {
   "cell_type": "markdown",
   "id": "5e12d2be-3e05-4621-b992-0df9098e53e7",
   "metadata": {},
   "source": [
    "---"
   ]
  },
  {
   "cell_type": "code",
   "execution_count": null,
   "id": "dfe9ca4e-42e6-4846-a0d3-82606145ba54",
   "metadata": {},
   "outputs": [],
   "source": [
    "def reset_incomplete_videos():\n",
    "    \"\"\"Reset all videos that were started (status=1) but not finished (status=2) back to unprocessed (status=0).\"\"\"\n",
    "    conn = sqlite3.connect(DB_PATH)\n",
    "    c = conn.cursor()\n",
    "    \n",
    "    # Reset any videos stuck in \"in progress\" state\n",
    "    c.execute(\"UPDATE videos SET status = 0 WHERE status = 1\")\n",
    "    conn.commit()\n",
    "    \n",
    "    conn.close()\n",
    "    print(\"🔄 Reset all incomplete videos back to unprocessed (status = 0).\")\n"
   ]
  },
  {
   "cell_type": "code",
   "execution_count": null,
   "id": "35011220-cfa7-4ba5-ba73-af39112e42c5",
   "metadata": {},
   "outputs": [],
   "source": [
    "reset_incomplete_videos()"
   ]
  },
  {
   "cell_type": "markdown",
   "id": "9ae1f2cf-8eb3-42ae-a028-295126d4a399",
   "metadata": {},
   "source": [
    "---"
   ]
  },
  {
   "cell_type": "code",
   "execution_count": null,
   "id": "4c304f02-586f-47b3-946e-ce83ab9db58b",
   "metadata": {},
   "outputs": [],
   "source": [
    "update_print(0)"
   ]
  },
  {
   "cell_type": "code",
   "execution_count": null,
   "id": "0c2c95cb-dacf-4e62-a99e-53ad03969671",
   "metadata": {},
   "outputs": [],
   "source": [
    "import sqlite3\n",
    "\n",
    "conn = sqlite3.connect(\"video_log.db\")\n",
    "c = conn.cursor()\n",
    "\n",
    "# View all records\n",
    "c.execute(\"SELECT * FROM videos WHERE status != 2\")\n",
    "rows = c.fetchall()\n",
    "for row in rows:\n",
    "    print(row)\n",
    "\n",
    "conn.close()"
   ]
  },
  {
   "cell_type": "code",
   "execution_count": null,
   "id": "60c1cc55-b5a7-41c5-82d3-226133edda91",
   "metadata": {},
   "outputs": [],
   "source": [
    "df = pd.read_csv(\"Detected_Language.csv\")\n",
    "csv_file = \"../../YouTube_Downloader/Participants_with_20_videos.csv\"\n",
    "import ast\n",
    "videos = pd.read_csv(csv_file, converters={\"videos\": ast.literal_eval})\n",
    "video_ids = videos['videos'].explode().tolist()\n",
    "df_filtered = df[df['Video ID'].isin(video_ids)]\n",
    "df_filtered.to_csv(\"Detected_Language.csv\", index=False)"
   ]
  },
  {
   "cell_type": "code",
   "execution_count": null,
   "id": "1a5dbc16-6115-4448-901d-360f766dbb54",
   "metadata": {},
   "outputs": [],
   "source": [
    "df_filtered"
   ]
  },
  {
   "cell_type": "code",
   "execution_count": null,
   "id": "31e1d78a-dbd5-41db-9887-cd05a7b45bd0",
   "metadata": {},
   "outputs": [],
   "source": [
    "df_filtered['language'].value_counts()"
   ]
  },
  {
   "cell_type": "code",
   "execution_count": null,
   "id": "c678f929-1a71-4567-bbcf-c31ded33cefa",
   "metadata": {},
   "outputs": [],
   "source": [
    "df_confident = df_filtered[df_filtered['confidence']>= 0.98]\n",
    "df_confident.to_csv(\"Detected_Language_Confident.csv\", index=False)\n",
    "df_confident"
   ]
  },
  {
   "cell_type": "code",
   "execution_count": null,
   "id": "e981a71b-9d50-4924-8253-640ce1d2a021",
   "metadata": {},
   "outputs": [],
   "source": [
    "df_confident['language'].value_counts()"
   ]
  }
 ],
 "metadata": {
  "kernelspec": {
   "display_name": "Python 3 ",
   "language": "python",
   "name": "python3"
  },
  "language_info": {
   "codemirror_mode": {
    "name": "ipython",
    "version": 3
   },
   "file_extension": ".py",
   "mimetype": "text/x-python",
   "name": "python",
   "nbconvert_exporter": "python",
   "pygments_lexer": "ipython3",
   "version": "3.12.10"
  }
 },
 "nbformat": 4,
 "nbformat_minor": 5
}
